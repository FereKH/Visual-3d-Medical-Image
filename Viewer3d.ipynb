{
  "nbformat": 4,
  "nbformat_minor": 0,
  "metadata": {
    "colab": {
      "provenance": []
    },
    "kernelspec": {
      "name": "python3",
      "display_name": "Python 3"
    },
    "language_info": {
      "name": "python"
    }
  },
  "cells": [
    {
      "cell_type": "code",
      "source": [
        "import streamlit as st\n",
        "import streamlit.components.v1 as components\n",
        "from ipywidgets import embed\n",
        "import vtk\n",
        "from itkwidgets import view\n",
        "from streamlit_lottie import st_lottie\n",
        "import requests\n",
        "from utils import get_state, does_zip_have_nifti, store_data, get_random_string\n",
        "from glob import glob\n",
        "import os"
      ],
      "metadata": {
        "id": "xM1V1xuwsXfW"
      },
      "execution_count": null,
      "outputs": []
    },
    {
      "cell_type": "code",
      "execution_count": null,
      "metadata": {
        "id": "dgVO2kEVsM5U"
      },
      "outputs": [],
      "source": [
        "def load_lottieurl(url):\n",
        "    r = requests.get(url)\n",
        "    if r.status_code != 200:\n",
        "        return None\n",
        "    return r.json()\n",
        "\n",
        "def local_css(file_name):\n",
        "    with open(file_name) as f:\n",
        "        st.markdown(f\"<style>{f.read()}</style>\", unsafe_allow_html=True)\n",
        "\n",
        "\n",
        "global temp_data_directory\n",
        "temp_data_directory = ''\n",
        "\n",
        "\n",
        "\n",
        "lottie_file = load_lottieurl('https://assets10.lottiefiles.com/private_files/lf30_4FGi6N.json')\n",
        "state = get_state()\n",
        "data_key = 'has_data'\n",
        "data_has_changed = False\n",
        " \n",
        "\n",
        "\n",
        "st.set_page_config(page_title='3D Visualization', page_icon=':pill:', layout='wide')\n",
        "local_css(\"style/style.css\")\n",
        "st.title(\"3D Medical Imaging Visualization\")\n",
        "st.subheader(\"Upload & Visualize\")\n",
        "st.write(\"[Visit my Website](https://pycad.co/)\")\n",
        "\n",
        "st_lottie(lottie_file, height=1000, key='coding')\n",
        "\n",
        "input_path = st.file_uploader('Upload files')\n",
        "\n",
        "# Upload section\n",
        "with st.container():\n",
        "    st.write('---')\n",
        "    if input_path:\n",
        "        if not state:\n",
        "            if does_zip_have_nifti(input_path):\n",
        "                temp_data_directory = f'./data/{get_random_string(15)}/'\n",
        "                os.makedirs(temp_data_directory, exist_ok=True)\n",
        "                store_data(input_path, temp_data_directory)\n",
        "                data_has_changed = True\n",
        "\n",
        "st.write(\"---\")\n",
        "if st.button('Show 3D'):\n",
        "    path_to_file = glob(f'{temp_data_directory}/*.nii.gz')\n",
        "    if path_to_file:\n",
        "        with st.container():\n",
        "            reader = vtk.vtkNIFTIImageReader()\n",
        "            reader.SetFileName(path_to_file[0])\n",
        "            reader.Update()\n",
        "\n",
        "            view_width = 1800\n",
        "            view_height = 1600\n",
        "\n",
        "            snippet = embed.embed_snippet(views=view(reader.GetOutput()))\n",
        "            html = embed.html_template.format(title=\"\", snippet=snippet)\n",
        "            components.html(html, width=view_width, height=view_height)\n",
        "\n",
        "with st.container():\n",
        "    st.write(\"---\")\n",
        "    st.header(\"Get In Touch With Us!\")\n",
        "    st.write(\"##\")\n",
        "\n",
        "    # Documention: https://formsubmit.co/ \n",
        "    contact_form = \"\"\"\n",
        "    <form action=\"https://formsubmit.co/mohammed@pycad.co\" method=\"POST\">\n",
        "        <input type=\"hidden\" name=\"_captcha\" value=\"false\">\n",
        "        <input type=\"text\" name=\"name\" placeholder=\"Your name\" required>\n",
        "        <input type=\"email\" name=\"email\" placeholder=\"Your email\" required>\n",
        "        <textarea name=\"message\" placeholder=\"Your message here\" required></textarea>\n",
        "        <button type=\"submit\">Send</button>\n",
        "    </form>\n",
        "    \"\"\"\n",
        "    left_column, right_column = st.columns(2)\n",
        "    with left_column:\n",
        "        st.markdown(contact_form, unsafe_allow_html=True)\n",
        "    with right_column:\n",
        "        st.empty()"
      ]
    }
  ]
}